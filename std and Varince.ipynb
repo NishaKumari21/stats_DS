{
 "cells": [
  {
   "cell_type": "code",
   "execution_count": null,
   "id": "8d46149c-499a-490a-bcd1-2c68e29a38ea",
   "metadata": {},
   "outputs": [],
   "source": [
    "# standard deivation in data science\n",
    "# Standard deviation is a metric that represents the amount to which various values of a statistical series tend to fluctuate or disperse from its mean or median.\n",
    "# tells how much data is spread ."
   ]
  },
  {
   "cell_type": "code",
   "execution_count": 1,
   "id": "2acc08b3-68a5-4da9-8add-cb1a46ba8fdd",
   "metadata": {},
   "outputs": [
    {
     "name": "stdout",
     "output_type": "stream",
     "text": [
      "8.07869458034211\n"
     ]
    }
   ],
   "source": [
    "# method1:by using np.std()\n",
    "# by using np.std()\n",
    "import numpy as np\n",
    "data=np.array([42, 38, 35, 26, 45, 52, 48])\n",
    "std=np.std(data)\n",
    "print(std)"
   ]
  },
  {
   "cell_type": "code",
   "execution_count": null,
   "id": "f2d8d680-450c-4177-9362-172c3fe56a13",
   "metadata": {},
   "outputs": [],
   "source": [
    "Steps to calculate Standard Deviation:\n",
    "1️⃣ Mean calculate karo — sab values ka average.\n",
    "2️⃣ Deviation find karo — har value se mean minus karo.\n",
    "3️⃣ Square karo — har deviation ka square lo.\n",
    "4️⃣ Sum of squares — sab squared deviations ka sum karo.\n",
    "5️⃣ Divide karo:\n",
    "Population SD: sum ko n se divide karo.\n",
    "Sample SD: sum ko n-1 se divide karo.\n",
    "6️⃣ Square root lo — variance ka square root nikal ke standard deviation milega."
   ]
  },
  {
   "cell_type": "code",
   "execution_count": 15,
   "id": "004948d2-4e18-4f6e-b042-4decd5f9c946",
   "metadata": {},
   "outputs": [
    {
     "name": "stdout",
     "output_type": "stream",
     "text": [
      "8.07869458034211\n"
     ]
    }
   ],
   "source": [
    "# method2:doing manually\n",
    "import numpy as np\n",
    "values=np.array([42, 38, 35, 26, 45, 52, 48])\n",
    "mean=np.mean(values)\n",
    "# squared difference\n",
    "squared_diff = (values - mean) ** 2\n",
    "# variance find kro\n",
    "variance = np.mean(squared_diff)\n",
    "std=np.sqrt(variance)\n",
    "print(std)\n"
   ]
  },
  {
   "cell_type": "code",
   "execution_count": null,
   "id": "191de4d3-d21c-432d-87ab-34bdf63727b1",
   "metadata": {},
   "outputs": [],
   "source": []
  },
  {
   "cell_type": "code",
   "execution_count": null,
   "id": "c0e510d1-2d03-4269-930a-ddc9426279ac",
   "metadata": {},
   "outputs": [],
   "source": []
  },
  {
   "cell_type": "code",
   "execution_count": null,
   "id": "2bce596c-2d2b-45ed-8597-3ee5765425a9",
   "metadata": {},
   "outputs": [],
   "source": []
  },
  {
   "cell_type": "code",
   "execution_count": null,
   "id": "922d51e2-6f31-4f40-8b23-c5ead3c52ec4",
   "metadata": {},
   "outputs": [],
   "source": []
  }
 ],
 "metadata": {
  "kernelspec": {
   "display_name": "Python 3 (ipykernel)",
   "language": "python",
   "name": "python3"
  },
  "language_info": {
   "codemirror_mode": {
    "name": "ipython",
    "version": 3
   },
   "file_extension": ".py",
   "mimetype": "text/x-python",
   "name": "python",
   "nbconvert_exporter": "python",
   "pygments_lexer": "ipython3",
   "version": "3.12.7"
  },
  "widgets": {
   "application/vnd.jupyter.widget-state+json": {
    "state": {},
    "version_major": 2,
    "version_minor": 0
   }
  }
 },
 "nbformat": 4,
 "nbformat_minor": 5
}
