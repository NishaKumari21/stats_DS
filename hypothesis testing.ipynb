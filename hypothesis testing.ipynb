{
 "cells": [
  {
   "cell_type": "code",
   "execution_count": 4,
   "id": "44f73fa4-122b-444d-ad77-7ab7345f5575",
   "metadata": {},
   "outputs": [
    {
     "name": "stdout",
     "output_type": "stream",
     "text": [
      "Z-Statistic: 4.299121076111037\n",
      "P-Value: 1.714767811009828e-05\n",
      "Significant Difference hai! (Null Hypothesis Reject)\n"
     ]
    }
   ],
   "source": [
    "# Z-Test ek hypothesis test hai jo sample mean aur population mean ka comparison karta hai.\n",
    "# Agar sample mean aur population mean ke beech ka difference random chance se bada lagta hai, to hum kehte hain ki yeh difference real hai!\n",
    "from statsmodels.stats.weightstats import ztest\n",
    "import numpy as np\n",
    "\n",
    "# Sample Data (40 students ka IQ)\n",
    "sample_data = np.random.normal(loc=105, scale=15, size=40)\n",
    "# np.random.normal(loc=105, scale=15, size=40) ka matlab:\n",
    "# loc=105 → Sample ka mean 105 hai\n",
    "# scale=15 → Sample ka standard deviation 15 hai\n",
    "# size=40 → Sample ke andar 40 students ka IQ hai\n",
    "\n",
    "# Population ka average IQ\n",
    "mu = 100  \n",
    "# poplulation mean=100\n",
    "# Z-Test\n",
    "z_stat, p_value = ztest(sample_data, value=mu)\n",
    "print(f\"Z-Statistic: {z_stat}\")\n",
    "print(f\"P-Value: {p_value}\")\n",
    "\n",
    "if p_value < 0.05:\n",
    "    print(\"Significant Difference hai! (Null Hypothesis Reject)\")\n",
    "else:\n",
    "    print(\"Koi significant difference nahi hai. (Null Hypothesis Accept)\")\n"
   ]
  },
  {
   "cell_type": "code",
   "execution_count": 8,
   "id": "2386f72c-ffb8-4cc5-a48d-a5c270c9dde9",
   "metadata": {},
   "outputs": [
    {
     "name": "stdout",
     "output_type": "stream",
     "text": [
      "T-Statistic: 2.6111648393354674\n",
      "P-Value: 0.028216803759726575\n",
      "Significant Difference hai! (Null Hypothesis Reject)\n"
     ]
    }
   ],
   "source": [
    "# One-Sample T-Test tab use hota hai jab sample size chhota ho (n < 30) aur population ka standard deviation unknown ho.\n",
    "# Yeh test check karta hai ki sample mean aur population mean ke beech significant difference hai ya nahi.\n",
    "\n",
    "\n",
    "from scipy.stats import ttest_1samp\n",
    "\n",
    "# Productivity scores\n",
    "sample_data = [78, 82, 74, 80, 76, 77, 79, 81, 73, 75]\n",
    "\n",
    "# Population average\n",
    "mu = 75  \n",
    "# 🔹 Population ka average productivity score 75 maana hai.\n",
    "# T-Test\n",
    "t_stat, p_value = ttest_1samp(sample_data, mu)\n",
    "# Yeh function T-statistic aur P-value calculate karega:\n",
    "# T-Statistic: Sample aur population ke beech kitna difference hai\n",
    "# P-Value: Probability ki yeh difference sirf random ho\n",
    "print(f\"T-Statistic: {t_stat}\")\n",
    "print(f\"P-Value: {p_value}\")\n",
    "# Agar P-Value < 0.05 → Sample aur population alag hain! ✅\n",
    "# Agar P-Value > 0.05 → Sample aur population same hi lagte hain. ❌\n",
    "if p_value < 0.05:\n",
    "    print(\"Significant Difference hai! (Null Hypothesis Reject)\")\n",
    "else:\n",
    "    print(\"Koi significant difference nahi hai. (Null Hypothesis Accept)\")\n"
   ]
  },
  {
   "cell_type": "code",
   "execution_count": 12,
   "id": "f79d6892-0460-4398-9313-c1f10b3edc99",
   "metadata": {},
   "outputs": [
    {
     "name": "stdout",
     "output_type": "stream",
     "text": [
      "Chi-Square Statistic: 3.8571428571428577\n",
      "P-Value: 0.04953461343562649\n",
      "Gender aur Food Choice related hain! (Null Hypothesis Reject)\n"
     ]
    }
   ],
   "source": [
    "# Chi-Square Test ek statistical test hai jo check karta hai ki do categorical variables ke beech koi relation hai ya nahi.\n",
    "# Yeh independence ya association test bhi kehlata hai.\n",
    "\n",
    "import scipy.stats as stats\n",
    "import numpy as np\n",
    " # scipy.stats.chi2_contingency() Chi-Square test perform karne ka function hai.\n",
    "# Observed Data (Male/Female vs Veg/Non-Veg)\n",
    "observed = np.array([[30, 20],  # Male: 30 Veg, 20 Non-Veg\n",
    "                      [40, 10]]) # Female: 40 Veg, 10 Non-Veg\n",
    "\n",
    "# Chi-Square Test\n",
    "chi2_stat, p_value, dof, expected = stats.chi2_contingency(observed)\n",
    "\n",
    "# chi2_stat (Chi-Square Value): Difference kitna significant hai\n",
    "# p_value (Probability Value): Kya yeh difference random ho sakta hai?\n",
    "# dof (Degrees of Freedom): (Rows - 1) * (Columns - 1)\n",
    "\n",
    "print(f\"Chi-Square Statistic: {chi2_stat}\")\n",
    "print(f\"P-Value: {p_value}\")\n",
    "\n",
    "if p_value < 0.05:\n",
    "    print(\"Gender aur Food Choice related hain! (Null Hypothesis Reject)\")\n",
    "else:\n",
    "    print(\"Gender aur Food Choice ka koi relation nahi. (Null Hypothesis Accept)\")\n"
   ]
  },
  {
   "cell_type": "code",
   "execution_count": null,
   "id": "7adac58b-c54a-4bea-bc47-9dcb0c7de0b4",
   "metadata": {},
   "outputs": [],
   "source": []
  }
 ],
 "metadata": {
  "kernelspec": {
   "display_name": "Python 3 (ipykernel)",
   "language": "python",
   "name": "python3"
  },
  "language_info": {
   "codemirror_mode": {
    "name": "ipython",
    "version": 3
   },
   "file_extension": ".py",
   "mimetype": "text/x-python",
   "name": "python",
   "nbconvert_exporter": "python",
   "pygments_lexer": "ipython3",
   "version": "3.12.7"
  },
  "widgets": {
   "application/vnd.jupyter.widget-state+json": {
    "state": {},
    "version_major": 2,
    "version_minor": 0
   }
  }
 },
 "nbformat": 4,
 "nbformat_minor": 5
}
