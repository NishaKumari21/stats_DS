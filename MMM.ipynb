{
 "cells": [
  {
   "cell_type": "code",
   "execution_count": null,
   "id": "6eaca4ce-3a35-45b6-a306-321f3be91eee",
   "metadata": {},
   "outputs": [],
   "source": [
    "# statistics in data science"
   ]
  },
  {
   "cell_type": "markdown",
   "id": "e368bf64-647c-45cc-884c-2f9c642ce4e2",
   "metadata": {},
   "source": [
    "# Mean, median mode"
   ]
  },
  {
   "cell_type": "markdown",
   "id": "c3420dae-72f3-4d00-bacc-9cfd1eea6440",
   "metadata": {},
   "source": [
    "1.Mean (Average):\n",
    "\n",
    "The mean is the sum of all the numbers in a dataset divided by the total number of values.\n",
    "Formula:\n",
    "Mean=Sum of all values/Number of values\n",
    "2.The median is the middle value in a dataset when the numbers are arranged in ascending or descending order.\n",
    "If there’s an odd number of values, the median is the middle one. If there’s an even number of values, the median is the average of the two middle numbers.\n",
    "Example: For the numbers 1, 3, 5, 7, and 9, the median is 5 (the middle value). If you have 1, 3, 5, 7, and 9, there’s only one middle number: 5.\n",
    "3.Mode:\n",
    "The mode is the value that appears most frequently in a dataset.\n",
    "A dataset can have more than one mode if multiple values occur with the same highest frequency.\n",
    "Example: For the numbers 2, 4, 4, 6, and 8, the mode is 4 because it appears twice, while the others appear once.\n",
    "In Summary:\n",
    "Mean: Average of the numbers.\n",
    "Median: Middle value when the numbers are sorted.\n",
    "Mode: The most frequent number."
   ]
  },
  {
   "cell_type": "code",
   "execution_count": 12,
   "id": "9194e722-4ecc-4094-9b8f-16a2340c26db",
   "metadata": {},
   "outputs": [
    {
     "name": "stdout",
     "output_type": "stream",
     "text": [
      "1st method to find mean: 14.555555555555555\n",
      "2nd method to find mean: 14.555555555555555\n"
     ]
    }
   ],
   "source": [
    "# mean\n",
    "import numpy as np\n",
    "arr=np.array([2,3,4,5,7,8,12,12,78])\n",
    "l=len(arr)\n",
    "s=sum(arr)\n",
    "print(\"1st method to find mean:\",s/l)\n",
    "print(\"2nd method to find mean:\",np.mean(arr))"
   ]
  },
  {
   "cell_type": "markdown",
   "id": "aadf195f-2fcb-4d5c-a7aa-14940693b438",
   "metadata": {},
   "source": [
    "What is Weighted Average?\n",
    "A weighted average is a type of average where each value in the dataset is given a different level of importance (weight). It’s used when you want to account for the fact that some numbers in your dataset are more important or carry more significance than others.\n",
    " \n",
    "Where:\n",
    "wi = weight associated with each value.\n",
    "xi= the actual data values.\n",
    "W = the weighted average.\n"
   ]
  },
  {
   "cell_type": "code",
   "execution_count": 55,
   "id": "cab32353-eb44-4d6f-a626-5bfe1e4aba55",
   "metadata": {},
   "outputs": [
    {
     "data": {
      "text/plain": [
       "5.666666666666667"
      ]
     },
     "execution_count": 55,
     "metadata": {},
     "output_type": "execute_result"
    }
   ],
   "source": [
    "import numpy as np\n",
    "\n",
    "arr = np.array([1, 2, 3, 4, 7, 9])         # Values (x_i)\n",
    "weight = np.array([1, 2, 3, 4, 5, 6])     # Weights (w_i)\n",
    "\n",
    "np.average(arr, weights=weight) "
   ]
  },
  {
   "cell_type": "code",
   "execution_count": 57,
   "id": "46064194-fc10-499d-aad2-7e0bf22b2e55",
   "metadata": {},
   "outputs": [
    {
     "name": "stdout",
     "output_type": "stream",
     "text": [
      "4.5\n"
     ]
    }
   ],
   "source": [
    "# median :to find the middle value\n",
    "arr=np.array([1,2,4,5,8,7])\n",
    "print(np.median(arr))"
   ]
  },
  {
   "cell_type": "markdown",
   "id": "35dbf595-d483-45ad-a415-22f5cb24da76",
   "metadata": {},
   "source": [
    "# mode :\n",
    "we can find the mode by two method:\n",
    "1.Using scipy.stats.mode\n",
    "2.Using collections.Counter\n"
   ]
  },
  {
   "cell_type": "code",
   "execution_count": 60,
   "id": "2d34bccf-5773-4d9a-91b2-3c213a961734",
   "metadata": {},
   "outputs": [
    {
     "name": "stdout",
     "output_type": "stream",
     "text": [
      "ModeResult(mode=3, count=4)\n"
     ]
    }
   ],
   "source": [
    "# by using scipy\n",
    "from scipy import stats\n",
    "arr=np.array([3,4,5,6,78,12,3,3,3,4])\n",
    "result=stats.mode(arr)\n",
    "print(result)"
   ]
  },
  {
   "cell_type": "code",
   "execution_count": 62,
   "id": "858443e3-efb7-4fcd-b989-50e753c72616",
   "metadata": {},
   "outputs": [],
   "source": [
    "# by Using collections.Counter"
   ]
  },
  {
   "cell_type": "code",
   "execution_count": 63,
   "id": "9c7a843a-1279-4fe1-a9b3-56aa3206baf7",
   "metadata": {},
   "outputs": [
    {
     "name": "stdout",
     "output_type": "stream",
     "text": [
      "[(4, 4)]\n"
     ]
    }
   ],
   "source": [
    "from collections import Counter\n",
    "arr=np.array([2,3,4,5,4,4,4,3])\n",
    "count=Counter(arr)\n",
    "print(count.most_common(1))"
   ]
  },
  {
   "cell_type": "code",
   "execution_count": null,
   "id": "bdf57427-f502-40d9-a612-094c766d89f5",
   "metadata": {},
   "outputs": [],
   "source": []
  }
 ],
 "metadata": {
  "kernelspec": {
   "display_name": "Python 3 (ipykernel)",
   "language": "python",
   "name": "python3"
  },
  "language_info": {
   "codemirror_mode": {
    "name": "ipython",
    "version": 3
   },
   "file_extension": ".py",
   "mimetype": "text/x-python",
   "name": "python",
   "nbconvert_exporter": "python",
   "pygments_lexer": "ipython3",
   "version": "3.12.7"
  },
  "widgets": {
   "application/vnd.jupyter.widget-state+json": {
    "state": {},
    "version_major": 2,
    "version_minor": 0
   }
  }
 },
 "nbformat": 4,
 "nbformat_minor": 5
}
